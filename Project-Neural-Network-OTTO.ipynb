{
 "cells": [
  {
   "cell_type": "code",
   "execution_count": 1,
   "metadata": {
    "scrolled": true,
    "slideshow": {
     "slide_type": "slide"
    }
   },
   "outputs": [
    {
     "name": "stdout",
     "output_type": "stream",
     "text": [
      "Populating the interactive namespace from numpy and matplotlib\n"
     ]
    }
   ],
   "source": [
    "%pylab inline\n",
    "import scipy.stats\n",
    "from collections import defaultdict  # default dictionary "
   ]
  },
  {
   "cell_type": "code",
   "execution_count": 2,
   "metadata": {
    "scrolled": false
   },
   "outputs": [
    {
     "name": "stdout",
     "output_type": "stream",
     "text": [
      "Setting custom matplotlib visual style\n"
     ]
    }
   ],
   "source": [
    "#Cutomize the Matplotlib for beautiful plots...\n",
    "#comment it if it does not work for you.\n",
    "import dmStyle\n",
    "dmStyle.customize_mpl()\n"
   ]
  },
  {
   "cell_type": "code",
   "execution_count": 3,
   "metadata": {
    "scrolled": true,
    "slideshow": {
     "slide_type": "-"
    }
   },
   "outputs": [],
   "source": [
    "import pandas as pd\n",
    "import tools as t # set of tools for plotting, data splitting, etc.."
   ]
  },
  {
   "cell_type": "markdown",
   "metadata": {},
   "source": [
    "###Neural Network\n",
    "Given a set of $m$ $d$-dimensional labelled training examples $X$ and their labels $Y $($Y \\in \\{1, 2, 3,\\dots, k\\})$.\n",
    "\n",
    "Your goal in this assignment is to implement multi-class Neural NeTwork classifier. Specifically, we will be implementing a three-layer neural network. We will be using $1-in-k$ class representation and will be using $k$ output neurons for $k$ different classes. During training we will be representing each example's class label with a binary vector of $k$ dimensions with $j_th$ dimension to which example example will be set to 1. For instance, if an example has a label$=4$ and total number of classes are 6 then it's label during training will be represented by the vector =$[0,0,0,1,0,0]$\n",
    "\n",
    "We will be using following cost function to measure the effectiveness of our learned system.  In other words, in Neural Network we try to optimize (minimize) following cost function (without regularization) to find the optimal decision boundary :\n",
    "\n",
    "\n",
    "$$J(\\theta) = \\frac{1}{m}\\sum_{i=1}^{m}\\sum_{j=1}^{k} \\lbrack -y_j^{(i)} \\log(a^{(3)}_k(x^{(i)})) - (1-y_j^{(i)}) \\log(1-a^{(3)}_k(x^{(i)})) \\rbrack$$\n",
    "\n",
    "Here $a^{(3)}_k$ is the $k_{th}$ neuron of 3rd layer of neural network. Recall that this cost function is identical to the cost function we have seen in the multi-class logistic regression, except here the cost function uses the output layer neurons instead of the usual single sigmoid function.\n",
    "\n",
    "This also implies that we will be using the last layer neurons output as our hypotheses, and during testing the label of the hypothesis that gives highest score to a test example will be used as label of the test example.\n",
    "\n",
    "To find the best set of parameters we will be using a gradient descent or stochastic gradient descent. For that to work, we will need to compute the derivatives of our cost function w.r.t to our parameter $\\theta$'s$.\n",
    "\n",
    "Now recall from your class that, derivatives for a single example will be:\n",
    "\n",
    "$$\n",
    "\\begin{align}\n",
    "\\frac{\\partial}{\\partial \\theta_{11}^{(2)}} J(W,b) &=\\underbrace{\\frac{1}{m}\\left([ a^3_1(1-a^3_1)]\\frac{(a^3_1-y_1)}{a^3(1-a^3_1)}\\right)}_{\\delta^{3}_1} a^{(2)}_1\n",
    " = \\delta^{3}_1 a^{(2)}_1\n",
    "\\end{align}\n",
    "$$\n",
    "Similary\n",
    "\n",
    "$$\n",
    "\\begin{align}\n",
    "\\frac{\\partial}{\\partial \\theta_{12}^{(2)}} J(W,b) = \\delta^{3}_1 a^{(2)}_2\n",
    "\\end{align}\n",
    "$$\n",
    "\n",
    "Thus the partial derivatives of the output layer can be written in a matrix-vector prodcut, i.e.\n",
    "$$\\begin{align}\n",
    "\\frac{\\partial}{\\partial \\theta^{(2)}} J(W,b) = \\delta^{3} * a^{(2)T}\n",
    "\\end{align}$$\n",
    "\n",
    "Where $ \\delta^{3}=\\frac{1}{m} (a^3-y)$\n",
    "\n",
    "Recall that we can similarly write the partial derivatives of first layer, i.e.\n",
    "$$\\begin{align}\n",
    "\\frac{\\partial}{\\partial \\theta^{(1)}} J(W,b) = \\delta^{2} * X^{T} \\mbox{ ; You can substitue X with $a^1$ as well.}\n",
    "\\end{align}$$\n",
    "\n",
    "Where $ \\delta^{2}=\\theta^{(2)T}*\\delta^3 .* (a^2*(1-a^2))$. Here '$.*$' means element-wise multiplication and '$*$' means matrix-vector prodcut.\n",
    "\n",
    "##Summary of Algorithm:\n",
    "\n",
    " - *Forward Pass:* In the forward pass you will compute the $a$'s, using following expressions:\n",
    "     $a^2=\\theta^1 * X$ and $a^3=\\theta^2 * a^2$\n",
    " - *BackWard Pass:* In the backward pass you will compute the deltas and using those deltas you will find the derivatives of the cost function.\n",
    " \n",
    "![Derivation of the gradients](Hand-Written-nn.jpg \"Summary of the derivation\")\n",
    "\n",
    "*Remember to exclude the bias-term during the calculations of derivatives of $\\theta^1$"
   ]
  },
  {
   "cell_type": "code",
   "execution_count": 4,
   "metadata": {},
   "outputs": [],
   "source": [
    "import time \n",
    "def GradientDescent(X,Y,cost_function,derivative_cost_function,nparams,maxiter=20000, alpha=0.01, plotcf=True):\n",
    "\n",
    "    eps=0.00001\n",
    "    thetas=rand(nparams,1)\n",
    "    # lets map the thetas to the range [-1,1]\n",
    "    stime=time.time() # Get the Starting time...\n",
    "    \n",
    "    thetas= thetas*2-1  # output = input * range_output  + min_output\n",
    "\n",
    "    theta_old=thetas\n",
    "    theta_new=thetas+1\n",
    "\n",
    "#     pai=int(maxniter / 200) # plot in total 200 number of points\n",
    "    #print cf\n",
    "    numiter=0\n",
    "    costValue=[]\n",
    "    numit=[]\n",
    "    df=ones(thetas.shape)\n",
    "    converged=False\n",
    "    printIter=0\n",
    "    while not converged:\n",
    "        # for each training sample, compute the gradient (d/d_theta j(theta))\n",
    "        grad =derivative_cost_function(X,Y,theta_old)\n",
    "        #theta_new=theta_old - (alpha*grad)\n",
    "        for k in range(len(thetas)):\n",
    "            theta_new[k]=theta_old[k] - alpha * grad[k]\n",
    "        # Cost function with new thetas\n",
    "        if printIter==numiter:\n",
    "            printIter+=500\n",
    "            \n",
    "            e =cost_function(X,Y,theta_new)\n",
    "            numit.append(numiter)\n",
    "            costValue.append(e)\n",
    "            print 'Value of Cost Function (obtained in {} iterations) is {}'.format(numiter,e)\n",
    "        if np.linalg.norm(grad)<=eps:\n",
    "            converged=True\n",
    "     \n",
    "        theta_old=theta_new\n",
    "        numiter += 1  # update iter\n",
    "\n",
    "        if numiter == maxiter:\n",
    "            print 'Max interactions exceeded!'\n",
    "            converged = True\n",
    "    plt.plot(numit,costValue)    \n",
    "    print 'Value of Cost Function at Minimum Points {}, is {}'.format(theta_new,e)\n",
    "    print 'Total time taken ={:.4} seconds '.format(time.time()-stime) # difference between current and stored time\n",
    "    return theta_new\n"
   ]
  },
  {
   "cell_type": "code",
   "execution_count": 5,
   "metadata": {
    "collapsed": true
   },
   "outputs": [],
   "source": [
    "import pdb\n",
    "def one_of_k(ilabels):\n",
    "\n",
    "    classes=np.unique(ilabels)\n",
    "    \n",
    "    nclasses=len(classes)\n",
    "    \n",
    "    olabels=np.zeros((ilabels.shape[0],nclasses))\n",
    "    \n",
    "    for i, l in enumerate(ilabels):        \n",
    "        olabels[i,classes==l]=1\n",
    "        \n",
    "    return olabels"
   ]
  },
  {
   "cell_type": "markdown",
   "metadata": {},
   "source": [
    "**Warning: In this assignment we will be assuming our data-matrix X to be $d \\times m$ instead of $m\\times d$, similary our Y will be $k\\times m$ instead of $m \\times k$, since that's how we derived our derivatives in the class.**"
   ]
  },
  {
   "cell_type": "code",
   "execution_count": 18,
   "metadata": {
    "scrolled": true
   },
   "outputs": [],
   "source": [
    "class NeuralNetwork:\n",
    "\n",
    "    def __init__(self,ifeatdim,nnhlayer,classes,alpha,lambd,maxniter,scalefeatures):        \n",
    "        self.thetas=[] # learned set of parameters\n",
    "        self.scalefeatures=scalefeatures\n",
    "        self.classes=np.unique(classes)\n",
    "\n",
    "        self.nclasses=len(self.classes) # dimensions of output\n",
    "        self.ifeatdim=ifeatdim # dimension of input features,\n",
    "        self.nnhlayer=nnhlayer # number of neurons in hidden layer\n",
    "        \n",
    "        self.maxniter=maxniter\n",
    "        self.alpha=alpha\n",
    "        self.lembda= lambd \n",
    "        self.sl1theta= (nnhlayer, ifeatdim) # l1theta's shape, remember 1 is already added for bias terms\n",
    "        self.sl2theta= (self.nclasses, nnhlayer+1) # l2thetas's shape, +1 for bias terms\n",
    "\n",
    "        # thetas's for neurons + bias terms..\n",
    "        \n",
    "        self.nthetas= (self.nclasses * nnhlayer+ nnhlayer* self.ifeatdim) + (self.nclasses)\n",
    "        \n",
    "        assert(self.nthetas == np.product(self.sl1theta[:])+np.product(self.sl2theta[:])) # for debugging \n",
    "\n",
    "        pass\n",
    "    \n",
    "    def getnparam(self):\n",
    "\n",
    "        return self.nthetas\n",
    "    def unroll_thetas(self,thetas):\n",
    "\n",
    "\n",
    "        l1theta= thetas[:np.product(self.sl1theta)].reshape(self.sl1theta)\n",
    "\n",
    "        l2theta= thetas[np.product(self.sl1theta):].reshape(self.sl2theta)\n",
    "\n",
    "        return l1theta, l2theta\n",
    "\n",
    "    def roll_thetas(self,l1theta,l2theta):\n",
    "\n",
    "        return np.concatenate( ( l1theta.ravel(),l2theta.ravel() )  )\n",
    "\n",
    "    def forward_pass(self, X, thetas):\n",
    "\n",
    "        l1theta,l2theta=self.unroll_thetas(thetas) # unroll the thetas...\n",
    "        # layer 1 computations...\n",
    "        a2=l1theta.dot(X)\n",
    "       \n",
    "        # append 1's for the bias terms...\n",
    "        a2=np.vstack((a2,np.ones((1,a2.shape[1]))))\n",
    "        a2=self.sigmoid(a2)\n",
    "        #layer 2 computations...\n",
    "        a3= l2theta.dot(a2)\n",
    "        a3=self.sigmoid(a3)\n",
    "        return a2,a3\n",
    "    def sigmoid(self,z):\n",
    "\n",
    "        z = maximum(minimum(16,z),-16) \n",
    "        return 1/(1+np.exp(-z))        \n",
    "    \n",
    "    \n",
    "    def hypothesis(self, X,thetas):\n",
    "\n",
    "    \n",
    "        return (self.forward_pass(X,thetas))[1]\n",
    "    \n",
    "    def cost_function(self, X,Y, theta):\n",
    "\n",
    "        m=X.shape[1]\n",
    "        cost = (1.0/m) * np.sum((-Y * (np.log10(self.hypothesis(X,theta))) - (1-Y)*(np.log10(1-self.hypothesis(X,theta)))))\n",
    "        cost+=(self.lembda*np.sum(theta.ravel()**2))/2.0\n",
    "        return cost\n",
    "    def derivative_cost_function(self,X,Y,thetas):\n",
    "\n",
    "#         pdb.set_trace()\n",
    "        #forward pass\n",
    "        a2, a3=self.forward_pass(X,thetas)\n",
    "        \n",
    "        #now back-propogate \n",
    "\n",
    "        # unroll thetas\n",
    "        l1theta,l2theta=self.unroll_thetas(thetas)\n",
    "        nexamples=float(X.shape[1])\n",
    "        \n",
    "        # compute delta3, l2theta\n",
    "        delta3= (a3-Y)/float(X.shape[1])\n",
    "        L2theta = delta3.dot(a2.T)\n",
    "        # compute delta2, l1theta\n",
    "        delta2 = ((l2theta.T).dot(delta3)*a2*(1-a2))[:-1]\n",
    "        L1theta =delta2.dot(X.T)\n",
    "        \n",
    "        #remember to exclude last element of delta2, representing the deltas of bias terms...\n",
    "        # i.e. delta2=delta2[:-1]\n",
    "\n",
    "        # roll thetas into a big vector\n",
    "        regularizedTheta=thetas\n",
    "        thetas=(self.roll_thetas(L1theta,L2theta)) # return the same shape as you received\n",
    "        thetas+=(self.lembda*regularizedTheta.ravel())\n",
    "        return thetas\n",
    "\n",
    "    def train(self, X, Y):\n",
    "\n",
    "        \n",
    "        nfeatures,nexamples=X.shape\n",
    "        ## now go and train a model for each class...\n",
    "        if self.scalefeatures:\n",
    "            X=self.scale_features(X)\n",
    "        nY=one_of_k(Y.T) # get a n x k\n",
    "        nparams=self.getnparam()\n",
    "        print 'Calling Gradient Descent with following number of parameter={}'.format(nparams)\n",
    "        self.thetas=GradientDescent(X,nY.T,self.cost_function,self.derivative_cost_function,self.getnparam(), self.maxniter,self.alpha)\n",
    "\n",
    "    def predict(self, X):\n",
    "        \n",
    "\n",
    "        num_test = X.shape[1]\n",
    "        \n",
    "        if self.sl1theta[1]-X.shape[0] ==1:\n",
    "            # append 1 at the end of each example for the bias term\n",
    "            X=np.vstack((X,np.ones((1,X.shape[1]))))\n",
    "        \n",
    "        if self.scalefeatures:\n",
    "            X=(X-self.xmin)/(self.xmax-self.xmin)\n",
    "        \n",
    "        pred=self.hypothesis(X,self.thetas)\n",
    "        \n",
    "        '''maxrange=X.shape[1]\n",
    "        Ypred=[]\n",
    "        for l in range(0,maxrange):\n",
    "            labelPred=np.argmax(pred[:,l])\n",
    "            Ypred.append(self.classes[labelPred])'''\n",
    "\n",
    "        return pred\n",
    "        \n",
    "        #return np.array(Ypred).reshape((num_test,1))\n",
    "    \n",
    "    \n",
    "    def scale_features(self,X):\n",
    "\n",
    "        self.xmin= np.min(X,axis=1)\n",
    "        self.xmax= np.max(X,axis=1)\n",
    "\n",
    "        return (X-self.xmin)/(self.xmax-self.xmin)"
   ]
  },
  {
   "cell_type": "code",
   "execution_count": 9,
   "metadata": {
    "collapsed": true
   },
   "outputs": [],
   "source": [
    "#convert predicted classes to a matrix...\n",
    "def class_2_matrix(Y, nclasses):\n",
    "    ntest=len(Y)\n",
    "    pclassm=np.zeros((ntest,nclasses))\n",
    "\n",
    "    for i in range(len(Y)):\n",
    "        j=int(Y[i].split('_')[1])-1\n",
    "        pclassm[i,j]=1\n",
    "    \n",
    "    return pclassm"
   ]
  },
  {
   "cell_type": "code",
   "execution_count": 10,
   "metadata": {
    "collapsed": true
   },
   "outputs": [],
   "source": [
    "def write_in_kaggle_format(filename,ids,pclasses,nclasses=9):\n",
    "    #write the result in the kaggle's required format\n",
    "    \n",
    "    #pclasses=class_2_matrix(pclasses,nclasses)\n",
    "    \n",
    "    dic=defaultdict(list) #build dictionary...\n",
    "    dic['id']=ids\n",
    "    for i in range(pclasses.shape[1]):\n",
    "        dic['Class_'+str(i+1)]=pclasses[:,i]\n",
    "\n",
    "    output = pd.DataFrame(dic,columns=['id','Class_1','Class_2', 'Class_3', 'Class_4', 'Class_5', 'Class_6', 'Class_7', 'Class_8', 'Class_9'])\n",
    "\n",
    "    # Use pandas to write the comma-separated output file\n",
    "    output.to_csv( filename, index=False, quoting=3 )"
   ]
  },
  {
   "cell_type": "markdown",
   "metadata": {
    "collapsed": true
   },
   "source": [
    "## Otto Group Product Classification Challenge"
   ]
  },
  {
   "cell_type": "code",
   "execution_count": 11,
   "metadata": {},
   "outputs": [
    {
     "name": "stdout",
     "output_type": "stream",
     "text": [
      "                 id       feat_1        feat_2        feat_3        feat_4  \\\n",
      "count  61878.000000  61878.00000  61878.000000  61878.000000  61878.000000   \n",
      "mean   30939.500000      0.38668      0.263066      0.901467      0.779081   \n",
      "std    17862.784315      1.52533      1.252073      2.934818      2.788005   \n",
      "min        1.000000      0.00000      0.000000      0.000000      0.000000   \n",
      "25%    15470.250000      0.00000      0.000000      0.000000      0.000000   \n",
      "50%    30939.500000      0.00000      0.000000      0.000000      0.000000   \n",
      "75%    46408.750000      0.00000      0.000000      0.000000      0.000000   \n",
      "max    61878.000000     61.00000     51.000000     64.000000     70.000000   \n",
      "\n",
      "             feat_5        feat_6        feat_7        feat_8        feat_9  \\\n",
      "count  61878.000000  61878.000000  61878.000000  61878.000000  61878.000000   \n",
      "mean       0.071043      0.025696      0.193704      0.662433      1.011296   \n",
      "std        0.438902      0.215333      1.030102      2.255770      3.474822   \n",
      "min        0.000000      0.000000      0.000000      0.000000      0.000000   \n",
      "25%        0.000000      0.000000      0.000000      0.000000      0.000000   \n",
      "50%        0.000000      0.000000      0.000000      0.000000      0.000000   \n",
      "75%        0.000000      0.000000      0.000000      1.000000      0.000000   \n",
      "max       19.000000     10.000000     38.000000     76.000000     43.000000   \n",
      "\n",
      "           ...            feat_84       feat_85       feat_86       feat_87  \\\n",
      "count      ...       61878.000000  61878.000000  61878.000000  61878.000000   \n",
      "mean       ...           0.070752      0.532306      1.128576      0.393549   \n",
      "std        ...           1.151460      1.900438      2.681554      1.575455   \n",
      "min        ...           0.000000      0.000000      0.000000      0.000000   \n",
      "25%        ...           0.000000      0.000000      0.000000      0.000000   \n",
      "50%        ...           0.000000      0.000000      0.000000      0.000000   \n",
      "75%        ...           0.000000      0.000000      1.000000      0.000000   \n",
      "max        ...          76.000000     55.000000     65.000000     67.000000   \n",
      "\n",
      "            feat_88       feat_89       feat_90       feat_91       feat_92  \\\n",
      "count  61878.000000  61878.000000  61878.000000  61878.000000  61878.000000   \n",
      "mean       0.874915      0.457772      0.812421      0.264941      0.380119   \n",
      "std        2.115466      1.527385      4.597804      2.045646      0.982385   \n",
      "min        0.000000      0.000000      0.000000      0.000000      0.000000   \n",
      "25%        0.000000      0.000000      0.000000      0.000000      0.000000   \n",
      "50%        0.000000      0.000000      0.000000      0.000000      0.000000   \n",
      "75%        1.000000      0.000000      0.000000      0.000000      0.000000   \n",
      "max       30.000000     61.000000    130.000000     52.000000     19.000000   \n",
      "\n",
      "            feat_93  \n",
      "count  61878.000000  \n",
      "mean       0.126135  \n",
      "std        1.201720  \n",
      "min        0.000000  \n",
      "25%        0.000000  \n",
      "50%        0.000000  \n",
      "75%        0.000000  \n",
      "max       87.000000  \n",
      "\n",
      "[8 rows x 94 columns]\n",
      "Index([u'id', u'feat_1', u'feat_2', u'feat_3', u'feat_4', u'feat_5', u'feat_6', u'feat_7', u'feat_8', u'feat_9', u'feat_10', u'feat_11', u'feat_12', u'feat_13', u'feat_14', u'feat_15', u'feat_16', u'feat_17', u'feat_18', u'feat_19', u'feat_20', u'feat_21', u'feat_22', u'feat_23', u'feat_24', u'feat_25', u'feat_26', u'feat_27', u'feat_28', u'feat_29', u'feat_30', u'feat_31', u'feat_32', u'feat_33', u'feat_34', u'feat_35', u'feat_36', u'feat_37', u'feat_38', u'feat_39', u'feat_40', u'feat_41', u'feat_42', u'feat_43', u'feat_44', u'feat_45', u'feat_46', u'feat_47', u'feat_48', u'feat_49', u'feat_50', u'feat_51', u'feat_52', u'feat_53', u'feat_54', u'feat_55', u'feat_56', u'feat_57', u'feat_58', u'feat_59', u'feat_60', u'feat_61', u'feat_62', u'feat_63', u'feat_64', u'feat_65', u'feat_66', u'feat_67', u'feat_68', u'feat_69', u'feat_70', u'feat_71', u'feat_72', u'feat_73', u'feat_74', u'feat_75', u'feat_76', u'feat_77', u'feat_78', u'feat_79', u'feat_80', u'feat_81', u'feat_82', u'feat_83', u'feat_84', u'feat_85', u'feat_86', u'feat_87', u'feat_88', u'feat_89', u'feat_90', u'feat_91', u'feat_92', u'feat_93', u'target'], dtype='object')\n"
     ]
    }
   ],
   "source": [
    "data=pd.read_csv('./kaggle 2/train.csv')\n",
    "datatest=pd.read_csv('./kaggle 2/test.csv')\n",
    "print data.describe()\n",
    "print data.columns"
   ]
  },
  {
   "cell_type": "code",
   "execution_count": 12,
   "metadata": {
    "collapsed": true
   },
   "outputs": [],
   "source": [
    "Y=data['target']"
   ]
  },
  {
   "cell_type": "code",
   "execution_count": 13,
   "metadata": {},
   "outputs": [
    {
     "data": {
      "text/plain": [
       "<matplotlib.text.Text at 0x198cec18>"
      ]
     },
     "execution_count": 13,
     "metadata": {},
     "output_type": "execute_result"
    },
    {
     "data": {
      "image/png": "[encoded data removed]",
      "text/plain": [
       "<matplotlib.figure.Figure at 0x13f6da90>"
      ]
     },
     "metadata": {},
     "output_type": "display_data"
    }
   ],
   "source": [
    "#Seeing is beleaving, so lets start...\n",
    "#Lets first plot the frequency of each class...\n",
    "freq=scipy.stats.itemfreq(Y)# Get frequency of each class....\n",
    "plt.bar(np.arange(1,len(freq[:,1])+1),freq[:,1],width=0.35)\n",
    "plt.xlabel('Classes')\n",
    "plt.ylabel('Frequency')\n",
    "plt.title('Frequency of different class examples')"
   ]
  },
  {
   "cell_type": "code",
   "execution_count": 14,
   "metadata": {},
   "outputs": [
    {
     "name": "stdout",
     "output_type": "stream",
     "text": [
      "(61878L, 93L)\n",
      "['Class_1' 'Class_1' 'Class_1' ..., 'Class_9' 'Class_9' 'Class_9'] (61878L,) 9\n"
     ]
    }
   ],
   "source": [
    "# Get your data in matrix\n",
    "X=np.asarray(data.ix[:,1:-1].dropna(),dtype=np.float32)\n",
    "ids=np.array(datatest['id'])\n",
    "XtestK=np.array(datatest.ix[:,1:].values,dtype=np.float32)\n",
    "print X.shape\n",
    "Y=np.asarray(data.ix[:,-1])\n",
    "print Y, Y.shape, len(np.unique(Y)) # so we have 9 classes...\n",
    "unique=np.unique(Y)\n",
    "nclasses=len(np.unique(Y))"
   ]
  },
  {
   "cell_type": "code",
   "execution_count": 15,
   "metadata": {},
   "outputs": [
    {
     "name": "stdout",
     "output_type": "stream",
     "text": [
      " Training Data Set Dimensions= (43315L, 93L) Training True Class labels dimensions (43315L,)\n",
      " Test Data Set Dimensions= (18563L, 93L) Test True Class labels dimensions (18563L,)\n"
     ]
    }
   ],
   "source": [
    "Xtrain,Ytrain,Xtest,Ytest=t.split_data(X,Y)\n",
    "\n",
    "print \" Training Data Set Dimensions=\", Xtrain.shape, \"Training True Class labels dimensions\", Ytrain.shape   \n",
    "print \" Test Data Set Dimensions=\", Xtest.shape, \"Test True Class labels dimensions\", Ytest.shape"
   ]
  },
  {
   "cell_type": "code",
   "execution_count": 16,
   "metadata": {
    "collapsed": true
   },
   "outputs": [],
   "source": [
    "#Lets append a vector of dummy 1's at the start of X to simplify the calculations...\n",
    "X=np.hstack((X,np.ones((X.shape[0],1))))\n",
    "Y=Y.reshape((len(Y),1))"
   ]
  },
  {
   "cell_type": "code",
   "execution_count": null,
   "metadata": {},
   "outputs": [
    {
     "name": "stdout",
     "output_type": "stream",
     "text": [
      "for alpha 0.0238675577941 and lambda 9.40796517603\n",
      "Calling Gradient Descent with following number of parameter=10209\n",
      "Value of Cost Function (obtained in 0 iterations) is 9599.38575861\n",
      "Value of Cost Function at Minimum Points [[ 0.0002779 ]\n",
      " [ 0.00018838]\n",
      " [ 0.00067947]\n",
      " ..., \n",
      " [-0.01356497]\n",
      " [-0.01356497]\n",
      " [-0.01943066]], is 9599.38575861\n",
      "Total time taken =42.99 seconds \n",
      "for alpha 0.0238675577941 and lambda 0.0134228267365\n",
      "Calling Gradient Descent with following number of parameter=10209\n",
      "Value of Cost Function (obtained in 0 iterations) is 36.6210385322"
     ]
    }
   ],
   "source": [
    "learning_rate = 10 ** np.random.uniform(-4, 1,10)\n",
    "lambdas = 10 ** np.random.uniform(-6, 1,10)\n",
    "acc=np.zeros((len(learning_rate),len(lambdas)))\n",
    "for i,alp in enumerate(learning_rate):\n",
    "    for j,lam in enumerate(lambdas):\n",
    "        print \"for alpha {} and lambda {}\".format(alp,lam)\n",
    "        nnclass=NeuralNetwork(Xtrain.shape[1],100,np.unique(Y),alp,lam,5000,False)#,withsgd=True,minibatch=80,epochs=2)\n",
    "        nnclass.train(Xtrain.T,Ytrain.T)\n",
    "        Z= nnclass.predict(Xtest.T);\n",
    "        acc[i,j]=np.sum(Z.ravel()==Ytest.ravel())/float(len(Ytest)) # use logloss if you are evaluating via logloss\n",
    "        np.save('rs-results-spiral-60-trails',acc);"
   ]
  },
  {
   "cell_type": "code",
   "execution_count": null,
   "metadata": {
    "collapsed": true
   },
   "outputs": [],
   "source": [
    "ridx,cidx= np.unravel_index(np.argmax(acc), acc.shape)\n",
    "print ridx,cidx\n",
    "# simple step-wise code\n",
    "print ridx, cidx,'Best Alpha=', learning_rate[ridx],'Best Lambda=',lambdas[cidx]"
   ]
  },
  {
   "cell_type": "code",
   "execution_count": 28,
   "metadata": {
    "scrolled": true
   },
   "outputs": [
    {
     "name": "stdout",
     "output_type": "stream",
     "text": [
      "Calling Gradient Descent with following number of parameter=12369\n",
      "Value of Cost Function (obtained in 0 iterations) is 6.04625493688\n",
      "Value of Cost Function (obtained in 500 iterations) is 0.711941986554\n",
      "Value of Cost Function (obtained in 1000 iterations) is 0.626707377208\n",
      "Value of Cost Function (obtained in 1500 iterations) is 0.589647779191\n",
      "Value of Cost Function (obtained in 2000 iterations) is 0.566488015723\n",
      "Value of Cost Function (obtained in 2500 iterations) is 0.549784924023\n",
      "Value of Cost Function (obtained in 3000 iterations) is 0.536898307382\n",
      "Value of Cost Function (obtained in 3500 iterations) is 0.526495246443\n",
      "Value of Cost Function (obtained in 4000 iterations) is 0.517839185749\n",
      "Value of Cost Function (obtained in 4500 iterations) is 0.510614452315\n",
      "Value of Cost Function (obtained in 5000 iterations) is 0.504420619356\n",
      "Value of Cost Function (obtained in 5500 iterations) is 0.499003446588\n",
      "Value of Cost Function (obtained in 6000 iterations) is 0.494230081577\n",
      "Value of Cost Function (obtained in 6500 iterations) is 0.489941138385\n",
      "Value of Cost Function (obtained in 7000 iterations) is 0.486054937445\n",
      "Value of Cost Function (obtained in 7500 iterations) is 0.48251128777\n",
      "Value of Cost Function (obtained in 8000 iterations) is 0.479244370996\n",
      "Value of Cost Function (obtained in 8500 iterations) is 0.476223528748\n",
      "Value of Cost Function (obtained in 9000 iterations) is 0.473408416464\n",
      "Value of Cost Function (obtained in 9500 iterations) is 0.470773335583\n",
      "Value of Cost Function (obtained in 10000 iterations) is 0.468299301148\n",
      "Value of Cost Function (obtained in 10500 iterations) is 0.465967888678\n",
      "Value of Cost Function (obtained in 11000 iterations) is 0.463762639571\n",
      "Value of Cost Function (obtained in 11500 iterations) is 0.461674096093\n",
      "Value of Cost Function (obtained in 12000 iterations) is 0.459689703897\n",
      "Value of Cost Function (obtained in 12500 iterations) is 0.457799306404\n",
      "Value of Cost Function (obtained in 13000 iterations) is 0.45599197603\n",
      "Value of Cost Function (obtained in 13500 iterations) is 0.454260129914\n",
      "Value of Cost Function (obtained in 14000 iterations) is 0.452597528358\n",
      "Value of Cost Function (obtained in 14500 iterations) is 0.450993842214\n",
      "Value of Cost Function (obtained in 15000 iterations) is 0.449445521246\n",
      "Value of Cost Function (obtained in 15500 iterations) is 0.447949321912\n",
      "Value of Cost Function (obtained in 16000 iterations) is 0.446497096173\n",
      "Value of Cost Function (obtained in 16500 iterations) is 0.445083781878\n",
      "Value of Cost Function (obtained in 17000 iterations) is 0.443705355772\n",
      "Value of Cost Function (obtained in 17500 iterations) is 0.442356571627\n",
      "Value of Cost Function (obtained in 18000 iterations) is 0.441052280043\n",
      "Value of Cost Function (obtained in 18500 iterations) is 0.439780437799\n",
      "Value of Cost Function (obtained in 19000 iterations) is 0.438536625043\n",
      "Value of Cost Function (obtained in 19500 iterations) is 0.437323254854\n",
      "Max interactions exceeded!\n",
      "Value of Cost Function at Minimum Points [[-0.12884974]\n",
      " [ 0.80626126]\n",
      " [-0.20449277]\n",
      " ..., \n",
      " [-0.78758225]\n",
      " [-0.18139619]\n",
      " [-0.7062875 ]], is 0.437323254854\n",
      "Total time taken =2.052e+04 seconds \n"
     ]
    },
    {
     "data": {
      "image/png": "[encoded data removed]",
      "text/plain": [
       "<matplotlib.figure.Figure at 0x177e5a58>"
      ]
     },
     "metadata": {},
     "output_type": "display_data"
    }
   ],
   "source": [
    "nnclass=NeuralNetwork(X.shape[1],12\n",
    "                      \n",
    "                      \n",
    "                      0,np.unique(Y),0.05,3.14409321389e-06,20000,False)\n",
    "nnclass.train(X.T,Y.T)"
   ]
  },
  {
   "cell_type": "code",
   "execution_count": 29,
   "metadata": {
    "scrolled": true
   },
   "outputs": [
    {
     "name": "stdout",
     "output_type": "stream",
     "text": [
      "(144368L, 9L)\n"
     ]
    }
   ],
   "source": [
    "pclasses=nnclass.predict(XtestK.T)\n",
    "print pclasses.T.shape\n",
    "write_in_kaggle_format('kaggel-otto-ANN',ids,pclasses.T)"
   ]
  },
  {
   "cell_type": "code",
   "execution_count": null,
   "metadata": {
    "collapsed": true
   },
   "outputs": [],
   "source": []
  }
 ],
 "metadata": {
  "celltoolbar": "Slideshow",
  "kernelspec": {
   "display_name": "Python 3",
   "language": "python",
   "name": "python3"
  },
  "language_info": {
   "codemirror_mode": {
    "name": "ipython",
    "version": 3
   },
   "file_extension": ".py",
   "mimetype": "text/x-python",
   "name": "python",
   "nbconvert_exporter": "python",
   "pygments_lexer": "ipython3",
   "version": "3.5.3"
  }
 },
 "nbformat": 4,
 "nbformat_minor": 1
}
